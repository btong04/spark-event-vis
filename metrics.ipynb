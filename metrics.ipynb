{
 "cells": [
  {
   "cell_type": "code",
   "execution_count": null,
   "metadata": {},
   "outputs": [],
   "source": [
    "import pyspark\n",
    "import pyspark.sql.functions as F\n",
    "import json\n",
    "\n",
    "spark = pyspark.sql.SparkSession.builder.getOrCreate()"
   ]
  },
  {
   "cell_type": "code",
   "execution_count": null,
   "metadata": {},
   "outputs": [],
   "source": [
    "metrics = spark.read.json(\"metrics/application_1601392010735_0030\")"
   ]
  },
  {
   "cell_type": "code",
   "execution_count": null,
   "metadata": {
    "scrolled": false
   },
   "outputs": [],
   "source": [
    "metrics.printSchema()"
   ]
  },
  {
   "cell_type": "code",
   "execution_count": null,
   "metadata": {},
   "outputs": [],
   "source": [
    "def collect_and_dictify(df):\n",
    "    return [json.loads(row[0]) for row in df.selectExpr(\"to_json(*)\").collect()]\n",
    "\n",
    "def executor_info(df):\n",
    "    info = df.select(\"Executor Info\").dropna()\n",
    "    return collect_and_dictify(info)"
   ]
  },
  {
   "cell_type": "code",
   "execution_count": null,
   "metadata": {},
   "outputs": [],
   "source": [
    "def plan_info(df):\n",
    "    return collect_and_dictify(df.select(\"sparkPlanInfo\").dropna())"
   ]
  },
  {
   "cell_type": "code",
   "execution_count": null,
   "metadata": {},
   "outputs": [],
   "source": [
    "plan_info(metrics)"
   ]
  },
  {
   "cell_type": "code",
   "execution_count": null,
   "metadata": {},
   "outputs": [],
   "source": [
    "def stageInfo(df):\n",
    "    \n",
    "    return collect_and_dictify(df.select(\"Stage Info\").dropna())"
   ]
  },
  {
   "cell_type": "code",
   "execution_count": null,
   "metadata": {
    "scrolled": false
   },
   "outputs": [],
   "source": [
    "def wide_metrics(df, mcol='Task Info', idcol='Task ID', interesting_metrics=None):\n",
    "    acc_cols = [F.col('Accumulable.%s' % s).alias('Metric %s' % s) for s in ['ID', 'Name', 'Value']]\n",
    "    obs = df.select(mcol).dropna().select('%s.*' % mcol)\n",
    "    cols = [F.col(elt) for elt in sorted(set(obs.columns) - set([idcol, 'Accumulables']))]\n",
    "    \n",
    "    if interesting_metrics is None:\n",
    "        interesting_metrics = F.col('Metric Name').isin(\n",
    "            'internal.metrics.resultSerializationTime',\n",
    "            'write time',\n",
    "            'shuffle write time',\n",
    "            'join time',\n",
    "            'GPU time',\n",
    "            'GPU decode time',\n",
    "            'fetch wait time',\n",
    "            'internal.metrics.executorCpuTime',\n",
    "            'internal.metrics.executorDeserializeTime',\n",
    "            'internal.metrics.jvmGCTime',\n",
    "            'internal.metrics.jvmGCTime'\n",
    "        )\n",
    "    \n",
    "    return obs.select(\n",
    "        idcol, \n",
    "        F.explode('Accumulables').alias('Accumulable'), \n",
    "        *cols\n",
    "    ).select(\n",
    "        idcol, \n",
    "        *(cols + acc_cols)\n",
    "    ).where(interesting_metrics)\n",
    "\n",
    "def wide_tasks(df):\n",
    "    return wide_metrics(df, 'Task Info', 'Task ID')\n",
    "\n",
    "def wide_stages(df):\n",
    "    return wide_metrics(df, 'Stage Info', 'Stage ID')\n"
   ]
  },
  {
   "cell_type": "code",
   "execution_count": null,
   "metadata": {},
   "outputs": [],
   "source": [
    "task_metrics = wide_tasks(metrics).toPandas()"
   ]
  },
  {
   "cell_type": "code",
   "execution_count": null,
   "metadata": {},
   "outputs": [],
   "source": [
    "import altair as alt"
   ]
  },
  {
   "cell_type": "code",
   "execution_count": null,
   "metadata": {
    "scrolled": true
   },
   "outputs": [],
   "source": [
    "alt.Chart(task_metrics).mark_bar().encode(\n",
    "    x='Task ID:N',\n",
    "    y='Metric Value:Q',\n",
    "    color='Metric Name:N',\n",
    "    tooltip=['Metric Name', 'Metric Value', 'Task ID']\n",
    ").interactive()"
   ]
  },
  {
   "cell_type": "code",
   "execution_count": null,
   "metadata": {},
   "outputs": [],
   "source": [
    "stage_metrics = wide_stages(metrics).toPandas()\n",
    "alt.Chart(stage_metrics).mark_bar().encode(\n",
    "    x='Stage ID:N',\n",
    "    y='Metric Value:Q',\n",
    "    color='Metric Name:N',\n",
    "    tooltip=['Details', 'Metric Name', 'Metric Value', 'Stage ID']\n",
    ").interactive()"
   ]
  },
  {
   "cell_type": "code",
   "execution_count": null,
   "metadata": {},
   "outputs": [],
   "source": [
    "stage_metrics"
   ]
  },
  {
   "cell_type": "code",
   "execution_count": null,
   "metadata": {},
   "outputs": [],
   "source": []
  }
 ],
 "metadata": {
  "kernelspec": {
   "display_name": "Python 3",
   "language": "python",
   "name": "python3"
  },
  "language_info": {
   "codemirror_mode": {
    "name": "ipython",
    "version": 3
   },
   "file_extension": ".py",
   "mimetype": "text/x-python",
   "name": "python",
   "nbconvert_exporter": "python",
   "pygments_lexer": "ipython3",
   "version": "3.7.8"
  }
 },
 "nbformat": 4,
 "nbformat_minor": 4
}
